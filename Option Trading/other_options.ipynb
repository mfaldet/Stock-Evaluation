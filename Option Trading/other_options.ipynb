{
 "cells": [
  {
   "cell_type": "code",
   "execution_count": null,
   "metadata": {},
   "outputs": [],
   "source": [
    "#import nasdaqdatalink\n",
    "#raw_sb = nasdaqdatalink.get(\"ZL\")\n",
    "\n",
    "import datapane as dp\n",
    "!datapane login --token=xxxxxxxxxxxxxxxxxxxxxxxxxxxx\n",
    "\n",
    "import altair as alt\n",
    "import datapane as dp\n",
    "\n",
    "# Melt dataframe for Altair plotting in DataPane\n",
    "df=sbo_pdf.copy()\n",
    "df=pd.melt(df, id_vars=['Strike Price'], value_vars=['Call Prob','Put Prob','Call PDF','Put PDF'])\n",
    "df.rename(columns={'variable':'Type','value':'Probability'}, inplace=True)\n",
    "\n",
    "plot_all = alt.Chart(df).mark_circle(size=60).encode(\n",
    "    x='Strike Price', \n",
    "    y=alt.Y('Probability', axis=alt.Axis(format='%', title='Probability In-The-Money')),\n",
    "    color=alt.Color('Type', scale=alt.Scale(scheme='dark2')),\n",
    "    tooltip=['Strike Price','Type','Probability']\n",
    ").interactive()\n",
    "\n",
    "#app = dp.App.from_notebook()\n",
    "app = dp.App(\n",
    "    dp.Plot(plot_all),\n",
    "    dp.DataTable(sbo_pdf)\n",
    ").upload(name=f\"{commodity} Options Implied Probabilities\", open=True)"
   ]
  }
 ],
 "metadata": {
  "kernelspec": {
   "display_name": "Python 3.9.12 ('Dev')",
   "language": "python",
   "name": "python3"
  },
  "language_info": {
   "name": "python",
   "version": "3.9.12"
  },
  "orig_nbformat": 4,
  "vscode": {
   "interpreter": {
    "hash": "4914ba6a01d5cc2a20b86037113efe1eba6c9cdc0067719a22bf848a5c26a91a"
   }
  }
 },
 "nbformat": 4,
 "nbformat_minor": 2
}
